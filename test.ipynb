{
 "cells": [
  {
   "cell_type": "code",
   "execution_count": null,
   "metadata": {},
   "outputs": [],
   "source": [
    "from codesim.problem import StraightLine \n",
    "\n",
    "gen = StraightLine(n_ops=20, \n",
    "                   n_vars=3,\n",
    "                   n_instances=2)\n",
    "\n",
    "# Generate and save 3 batches of 30 problems each\n",
    "for i in range(3):\n",
    "    gen.generate_data(n_programs=30)\n",
    "    gen.to_file(suffix=\"batch-\" + str(i+1))\n",
    "    gen.reset()\n"
   ]
  },
  {
   "cell_type": "code",
   "execution_count": null,
   "metadata": {},
   "outputs": [],
   "source": [
    "from codesim.problem import CriticalPath \n",
    "\n",
    "gen = CriticalPath(n_ops=20, \n",
    "                   n_vars=4,\n",
    "                   len_critical_path=10)\n",
    "\n",
    "# Generate and save 3 batches of 30 problems each\n",
    "for i in range(3):\n",
    "    gen.generate_data(n_programs=30)\n",
    "    gen.to_file(suffix=\"batch-\" + str(i+1))\n",
    "    gen.reset()"
   ]
  },
  {
   "cell_type": "code",
   "execution_count": null,
   "metadata": {},
   "outputs": [],
   "source": [
    "from codesim.problem import ParallelPaths \n",
    "\n",
    "gen = ParallelPaths(n_ops=20, \n",
    "                    n_vars=3,\n",
    "                    n_instances=2)\n",
    "\n",
    "# Generate and save 3 batches of 30 problems each\n",
    "for i in range(3):\n",
    "    gen.generate_data(n_programs=30)\n",
    "    gen.to_file(suffix=\"batch-\" + str(i+1))\n",
    "    gen.reset()"
   ]
  },
  {
   "cell_type": "code",
   "execution_count": null,
   "metadata": {},
   "outputs": [],
   "source": [
    "from codesim.problem import Loops \n",
    "\n",
    "gen = Loops(n_loops=5, \n",
    "            n_noisy_loops=2,\n",
    "            min_loop_length=3,\n",
    "            max_loop_length=5)\n",
    "\n",
    "# Generate and save 3 batches of 30 problems each\n",
    "for i in range(3):\n",
    "    gen.generate_data(n_programs=30)\n",
    "    gen.to_file(suffix=\"batch-\" + str(i+1))\n",
    "    gen.reset()"
   ]
  },
  {
   "cell_type": "code",
   "execution_count": 1,
   "metadata": {},
   "outputs": [],
   "source": [
    "from codesim.problem import Sort \n",
    "\n",
    "gen = Sort(n_vars=10,\n",
    "           ascending=True)\n",
    "\n",
    "# Generate and save 3 batches of 30 problems each\n",
    "for i in range(3):\n",
    "    gen.generate_data(n_programs=30)\n",
    "    gen.to_file(suffix=\"batch-\" + str(i+1))\n",
    "    gen.reset()"
   ]
  },
  {
   "cell_type": "code",
   "execution_count": 2,
   "metadata": {},
   "outputs": [],
   "source": [
    "# run following bash code:\n",
    "\n",
    "script = \"\"\"\n",
    "python3 codesim/kim_schuster.py \\\n",
    "    --max_items_per_box 3 \\\n",
    "    --num_samples 30\n",
    "\"\"\""
   ]
  },
  {
   "cell_type": "code",
   "execution_count": 3,
   "metadata": {},
   "outputs": [],
   "source": [
    "\n",
    "\n"
   ]
  }
 ],
 "metadata": {
  "kernelspec": {
   "display_name": "Python 3",
   "language": "python",
   "name": "python3"
  },
  "language_info": {
   "codemirror_mode": {
    "name": "ipython",
    "version": 3
   },
   "file_extension": ".py",
   "mimetype": "text/x-python",
   "name": "python",
   "nbconvert_exporter": "python",
   "pygments_lexer": "ipython3",
   "version": "3.11.8"
  },
  "orig_nbformat": 4
 },
 "nbformat": 4,
 "nbformat_minor": 2
}
