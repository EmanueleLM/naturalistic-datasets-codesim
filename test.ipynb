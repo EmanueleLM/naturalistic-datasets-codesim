{
 "cells": [
  {
   "cell_type": "markdown",
   "metadata": {},
   "source": [
    "### Retrieve and save data"
   ]
  },
  {
   "cell_type": "code",
   "execution_count": null,
   "metadata": {},
   "outputs": [],
   "source": [
    "from codesim.problem import StraightLine \n",
    "\n",
    "gen = StraightLine(n_ops=20, \n",
    "                   n_vars=3,\n",
    "                   n_instances=2)\n",
    "\n",
    "# Generate and save 3 batches of 30 problems each\n",
    "for i in range(3):\n",
    "    gen.generate_data(n_programs=30)\n",
    "    gen.to_file(suffix=\"batch-\" + str(i+1))\n",
    "    gen.reset()\n"
   ]
  },
  {
   "cell_type": "code",
   "execution_count": 1,
   "metadata": {},
   "outputs": [],
   "source": [
    "from codesim.problem import CriticalPath \n",
    "\n",
    "gen = CriticalPath(n_ops=20, \n",
    "                   n_vars=4,\n",
    "                   len_critical_path=10)\n",
    "\n",
    "# Generate and save 3 batches of 30 problems each\n",
    "for i in range(3):\n",
    "    gen.generate_data(n_programs=30)\n",
    "    gen.to_file(suffix=\"batch-\" + str(i+1))\n",
    "    gen.reset()"
   ]
  },
  {
   "cell_type": "code",
   "execution_count": 2,
   "metadata": {},
   "outputs": [],
   "source": [
    "from codesim.problem import ParallelPaths \n",
    "\n",
    "gen = ParallelPaths(n_ops=20, \n",
    "                    n_vars=3,\n",
    "                    n_instances=2)\n",
    "\n",
    "# Generate and save 3 batches of 30 problems each\n",
    "for i in range(3):\n",
    "    gen.generate_data(n_programs=30)\n",
    "    gen.to_file(suffix=\"batch-\" + str(i+1))\n",
    "    gen.reset()"
   ]
  },
  {
   "cell_type": "code",
   "execution_count": 3,
   "metadata": {},
   "outputs": [],
   "source": [
    "from codesim.problem import Loops \n",
    "\n",
    "gen = Loops(n_loops=5, \n",
    "            n_noisy_loops=2,\n",
    "            min_loop_length=3,\n",
    "            max_loop_length=5)\n",
    "\n",
    "# Generate and save 3 batches of 30 problems each\n",
    "for i in range(3):\n",
    "    gen.generate_data(n_programs=30)\n",
    "    gen.to_file(suffix=\"batch-\" + str(i+1))\n",
    "    gen.reset()"
   ]
  },
  {
   "cell_type": "code",
   "execution_count": 4,
   "metadata": {},
   "outputs": [],
   "source": [
    "from codesim.problem import Sort \n",
    "\n",
    "gen = Sort(n_vars=10,\n",
    "           ascending=True)\n",
    "\n",
    "# Generate and save 3 batches of 30 problems each\n",
    "for i in range(3):\n",
    "    gen.generate_data(n_programs=30)\n",
    "    gen.to_file(suffix=\"batch-\" + str(i+1))\n",
    "    gen.reset()"
   ]
  },
  {
   "cell_type": "code",
   "execution_count": 23,
   "metadata": {},
   "outputs": [
    {
     "name": "stdout",
     "output_type": "stream",
     "text": [
      "The autoreload extension is already loaded. To reload it, use:\n",
      "  %reload_ext autoreload\n",
      "Namespace(object_vocabulary_file='data/objects_with_bnc_frequency.csv', disjoint_object_vocabulary_file=None, disjoint_object_splits='test', output_dir='data/boxes', seed=2255, num_boxes=7, expected_num_items_per_box=1, max_items_per_box=3, num_samples=30, num_operations=10, disjoint_numops=False, zero_shot=False, include_modifiers='never', omit_modifiers_in_ops='never', alternative_forms='never', rarify=False, all_contents_operation=False)\n",
      "finished sampling 60 sequences of length 10.\n",
      "Saved outputs to data/boxes.\n"
     ]
    }
   ],
   "source": [
    "import sys\n",
    "from codesim.kim_schuster import real_main\n",
    "%load_ext autoreload\n",
    "%autoreload 2\n",
    "# simulate CLI run\n",
    "sys.argv = [\"codesim/kim_schuster.py\", \n",
    "            \"--max_items_per_box\", \"3\",\n",
    "            \"--num_samples\", \"30\"]\n",
    "\n",
    "real_main()"
   ]
  },
  {
   "cell_type": "markdown",
   "metadata": {},
   "source": [
    "### Generate prompts"
   ]
  },
  {
   "cell_type": "code",
   "execution_count": 3,
   "metadata": {},
   "outputs": [
    {
     "name": "stdout",
     "output_type": "stream",
     "text": [
      "Here's some code: \n",
      "a0=6; a1=5\n",
      "b0=9; b1=8\n",
      "c0=9; c1=6\n",
      "b1 -= 5\n",
      "a1 += 4\n",
      "c1 -= 4\n",
      "b0 -= 8\n",
      "a1 += 2\n",
      "b1 -= 2\n",
      "c1 += b1\n",
      "b1 -= b1\n",
      "b1 += 1\n",
      "b1 -= b1\n",
      "b0 += 5\n",
      "a0 -= 5\n",
      "b0 += a0\n",
      "a0 -= a0\n",
      "a1 += 10\n",
      "c1 += 1\n",
      "b0 += 9\n",
      "b0 += 5\n",
      "b0 += 8\n",
      "a0 += 9\n",
      "c1 += 5\n",
      "c1 += 20\n",
      "a1 -= 20\n",
      "a0 -= 7\n",
      "b0 += 7\n",
      "\n",
      "What is the value of a at the end of the computation?\n",
      "Think step by step and provide the answer between <answer></answer> tags.\n",
      "For example, reply with <answer>1</answer> if the answer is 1.\n",
      "\n",
      "==============================\n",
      " \n",
      "There are 3 agents, ['a', 'b', 'c']. Each of them has 2 items, ['obj-0', 'obj-1'].\n",
      "Here is the initial quantity of each object per agent.\n",
      "\n",
      "Agent-a has 6 obj-0, 5 obj-1.\n",
      "Agent-b has 9 obj-0, 8 obj-1.\n",
      "Agent-c has 9 obj-0, 6 obj-1.\n",
      "\n",
      "Here's the list of potential interactions between agents.\n",
      "An agent can give a quantity of one their objects to another agent. \n",
      "In that case, they lose that quantity of that object and the other agent increases theirs'.\n",
      "An agent can lose some or all of their objects. In that case, they lose that quantity of that object.\n",
      "An agent can buy some quantity of an object. In that case, they increase the quantity of that object.\n",
      "Here's a list of interactions between the agents.\n",
      "Agent-b loses 5 obj-1.\n",
      "Agent-c gives 4 obj-1 to agent-a.\n",
      "Agent-b loses 8 obj-0.\n",
      "Agent-b gives 2 obj-1 to agent-a.\n",
      "Agent-b gives all their obj-1 to agent-c.\n",
      "Agent-b buys 1 obj-1.\n",
      "Agent-b loses all their obj-1.\n",
      "Agent-b buys 5 obj-0.\n",
      "Agent-a loses 5 obj-0.\n",
      "Agent-a gives all their obj-0 to agent-b.\n",
      "Agent-a buys 10 obj-1.\n",
      "Agent-c buys 1 obj-1.\n",
      "Agent-b buys 9 obj-0.\n",
      "Agent-b buys 5 obj-0.\n",
      "Agent-b buys 8 obj-0.\n",
      "Agent-a buys 9 obj-0.\n",
      "Agent-c buys 5 obj-1.\n",
      "Agent-a gives 20 obj-1 to agent-c.\n",
      "Agent-a loses 7 obj-0.\n",
      "Agent-b buys 7 obj-0.\n",
      "\n",
      "How many obj-0 does agent a has at the end?\n",
      "Think step by step and provide the answer between <answer></answer> tags.\n",
      "For example, reply with <answer>1</answer> if the answer is 1.\n",
      "\n"
     ]
    }
   ],
   "source": [
    "# Test the prompts\n",
    "import json \n",
    "import random\n",
    "from codesim.prompt import StraightLine as SL\n",
    "\n",
    "# Get the data\n",
    "data = json.load(open(\"./data/StraightLine/n_ops-20_n_vars-3_n_instances-2_batch-1.json\"))\n",
    "p_syn, p_nat, lab_syn, lab_nat = data[0].values()\n",
    "\n",
    "# Syn\n",
    "label_name, gt = list(lab_syn.keys())[0], list(lab_syn.values())[0]\n",
    "question = SL.questions_syn[0].format(varname=label_name)\n",
    "prompt_syn = SL.user_cot.format(prefix=\"Here's some code:\", \n",
    "                                problem=p_syn, \n",
    "                                question=question)\n",
    "print(prompt_syn)\n",
    "\n",
    "print(\"=\"*30)\n",
    "# Nat\n",
    "agent_name = list(lab_nat.keys())[0]\n",
    "object_name = list(lab_nat[agent_name].keys())[0]\n",
    "gt = lab_nat[agent_name][object_name]\n",
    "question = SL.questions_nat[0].format(varname=object_name, agentname=agent_name)\n",
    "prompt_nat = SL.user_cot.format(prefix=\"\",\n",
    "                                problem=p_nat,\n",
    "                                question=question)\n",
    "print(prompt_nat)"
   ]
  },
  {
   "cell_type": "code",
   "execution_count": null,
   "metadata": {},
   "outputs": [],
   "source": []
  }
 ],
 "metadata": {
  "kernelspec": {
   "display_name": "Python 3",
   "language": "python",
   "name": "python3"
  },
  "language_info": {
   "codemirror_mode": {
    "name": "ipython",
    "version": 3
   },
   "file_extension": ".py",
   "mimetype": "text/x-python",
   "name": "python",
   "nbconvert_exporter": "python",
   "pygments_lexer": "ipython3",
   "version": "3.11.8"
  },
  "orig_nbformat": 4
 },
 "nbformat": 4,
 "nbformat_minor": 2
}
