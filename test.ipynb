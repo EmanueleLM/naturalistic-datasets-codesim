{
 "cells": [
  {
   "cell_type": "markdown",
   "metadata": {},
   "source": [
    "### Retrieve and save data"
   ]
  },
  {
   "cell_type": "code",
   "execution_count": 1,
   "metadata": {},
   "outputs": [],
   "source": [
    "from codesim.problem import StraightLine \n",
    "\n",
    "gen = StraightLine(n_ops=20, \n",
    "                   n_vars=3,\n",
    "                   n_instances=2)\n",
    "\n",
    "# Generate and save 3 batches of 30 problems each\n",
    "for i in range(3):\n",
    "    gen.generate_data(n_programs=30)\n",
    "    gen.to_file(suffix=\"batch-\" + str(i+1))\n",
    "    gen.reset()\n"
   ]
  },
  {
   "cell_type": "code",
   "execution_count": 2,
   "metadata": {},
   "outputs": [],
   "source": [
    "from codesim.problem import CriticalPath \n",
    "\n",
    "gen = CriticalPath(n_ops=20, \n",
    "                   n_vars=4,\n",
    "                   len_critical_path=10)\n",
    "\n",
    "# Generate and save 3 batches of 30 problems each\n",
    "for i in range(3):\n",
    "    gen.generate_data(n_programs=30)\n",
    "    gen.to_file(suffix=\"batch-\" + str(i+1))\n",
    "    gen.reset()"
   ]
  },
  {
   "cell_type": "code",
   "execution_count": 3,
   "metadata": {},
   "outputs": [],
   "source": [
    "from codesim.problem import ParallelPaths \n",
    "\n",
    "gen = ParallelPaths(n_ops=20, \n",
    "                    n_vars=3,\n",
    "                    n_instances=2)\n",
    "\n",
    "# Generate and save 3 batches of 30 problems each\n",
    "for i in range(3):\n",
    "    gen.generate_data(n_programs=30)\n",
    "    gen.to_file(suffix=\"batch-\" + str(i+1))\n",
    "    gen.reset()"
   ]
  },
  {
   "cell_type": "code",
   "execution_count": 4,
   "metadata": {},
   "outputs": [],
   "source": [
    "from codesim.problem import Loops \n",
    "\n",
    "gen = Loops(n_loops=5, \n",
    "            n_noisy_loops=2,\n",
    "            min_loop_length=3,\n",
    "            max_loop_length=5)\n",
    "\n",
    "# Generate and save 3 batches of 30 problems each\n",
    "for i in range(3):\n",
    "    gen.generate_data(n_programs=30)\n",
    "    gen.to_file(suffix=\"batch-\" + str(i+1))\n",
    "    gen.reset()"
   ]
  },
  {
   "cell_type": "code",
   "execution_count": 5,
   "metadata": {},
   "outputs": [],
   "source": [
    "from codesim.problem import Sort \n",
    "\n",
    "gen = Sort(n_vars=10,\n",
    "           ascending=True)\n",
    "\n",
    "# Generate and save 3 batches of 30 problems each\n",
    "for i in range(3):\n",
    "    gen.generate_data(n_programs=30)\n",
    "    gen.to_file(suffix=\"batch-\" + str(i+1))\n",
    "    gen.reset()"
   ]
  },
  {
   "cell_type": "code",
   "execution_count": null,
   "metadata": {},
   "outputs": [],
   "source": [
    "import sys\n",
    "from codesim.kim_schuster import real_main\n",
    "%load_ext autoreload\n",
    "%autoreload 2\n",
    "# simulate CLI run\n",
    "sys.argv = [\"codesim/kim_schuster.py\", \n",
    "            \"--max_items_per_box\", \"3\",\n",
    "            \"--num_samples\", \"30\"]\n",
    "\n",
    "real_main()"
   ]
  },
  {
   "cell_type": "markdown",
   "metadata": {},
   "source": [
    "### Generate prompts"
   ]
  },
  {
   "cell_type": "code",
   "execution_count": 1,
   "metadata": {},
   "outputs": [
    {
     "name": "stdout",
     "output_type": "stream",
     "text": [
      "Here's some code: \n",
      "a0=4; a1=5\n",
      "b0=2; b1=2\n",
      "c0=7; c1=3\n",
      "b0 += 7\n",
      "b1 -= 1\n",
      "a1 -= 1\n",
      "c0 += a0\n",
      "a0 -= a0\n",
      "c1 += 5\n",
      "a1 += 7\n",
      "c0 += b0\n",
      "b0 -= b0\n",
      "a1 += 5\n",
      "b1 += 5\n",
      "c0 += 4\n",
      "c1 -= 2\n",
      "a0 += 1\n",
      "c0 -= 1\n",
      "c0 -= 14\n",
      "a1 -= 2\n",
      "b0 += 4\n",
      "a1 -= 9\n",
      "b1 -= 2\n",
      "c1 += 6\n",
      "b0 += 1\n",
      "c0 -= 1\n",
      "b0 += 10\n",
      "\n",
      "What is the value of a0 at the end of the computation?\n",
      "Think step by step and provide the answer between <answer></answer> tags.\n",
      "For example, reply with <answer>1</answer> if the answer is 1.\n",
      "\n",
      "==============================\n",
      " \n",
      "There are 3 agents, ['a', 'b', 'c']. Each of them has 2 items, ['obj-0', 'obj-1'].\n",
      "Here is the initial quantity of each object per agent.\n",
      "\n",
      "Agent-a has 4 obj-0, 5 obj-1.\n",
      "Agent-b has 2 obj-0, 2 obj-1.\n",
      "Agent-c has 7 obj-0, 3 obj-1.\n",
      "\n",
      "Here's the list of potential interactions between agents.\n",
      "An agent can give a quantity of one their objects to another agent. \n",
      "In that case, they lose that quantity of that object and the other agent increases theirs'.\n",
      "An agent can lose some or all of their objects. In that case, they lose that quantity of that object.\n",
      "An agent can buy some quantity of an object. In that case, they increase the quantity of that object.\n",
      "Here's a list of interactions between the agents.\n",
      "Agent-b buys 7 obj-0.\n",
      "Agent-b loses 1 obj-1.\n",
      "Agent-a loses 1 obj-1.\n",
      "Agent-a gives all their obj-0 to agent-c.\n",
      "Agent-c buys 5 obj-1.\n",
      "Agent-a buys 7 obj-1.\n",
      "Agent-b gives all their obj-0 to agent-c.\n",
      "Agent-a buys 5 obj-1.\n",
      "Agent-b buys 5 obj-1.\n",
      "Agent-c buys 4 obj-0.\n",
      "Agent-c loses 2 obj-1.\n",
      "Agent-c gives 1 obj-0 to agent-a.\n",
      "Agent-c loses 14 obj-0.\n",
      "Agent-a loses 2 obj-1.\n",
      "Agent-b buys 4 obj-0.\n",
      "Agent-a loses 9 obj-1.\n",
      "Agent-b loses 2 obj-1.\n",
      "Agent-c buys 6 obj-1.\n",
      "Agent-c gives 1 obj-0 to agent-b.\n",
      "Agent-b buys 10 obj-0.\n",
      "\n",
      "How many obj-0 does agent a has at the end?\n",
      "Think step by step and provide the answer between <answer></answer> tags.\n",
      "For example, reply with <answer>1</answer> if the answer is 1.\n",
      "\n"
     ]
    }
   ],
   "source": [
    "# Test the prompts\n",
    "import json \n",
    "from codesim.prompt import StraightLine as SL\n",
    "\n",
    "# Get the data\n",
    "data = json.load(open(\"./data/StraightLine/n_ops-20_n_vars-3_n_instances-2_batch-1.json\"))\n",
    "p_syn, p_nat, lab_syn, lab_nat = data[0].values()\n",
    "\n",
    "# Syn\n",
    "var_name = list(lab_syn.keys())[0]  # can sample here\n",
    "gt = lab_syn[var_name]\n",
    "question = SL.questions_syn[0].format(varname=var_name)\n",
    "prompt_syn = SL.user_cot.format(prefix=\"Here's some code:\", \n",
    "                                problem=p_syn, \n",
    "                                question=question)\n",
    "print(prompt_syn)\n",
    "\n",
    "print(\"=\"*30)\n",
    "# Nat\n",
    "agent_name = list(lab_nat.keys())[0]  # can sample here\n",
    "object_name = list(lab_nat[agent_name].keys())[0]  # same...\n",
    "gt = lab_nat[agent_name][object_name]\n",
    "question = SL.questions_nat[0].format(varname=object_name, agentname=agent_name)\n",
    "prompt_nat = SL.user_cot.format(prefix=\"\",\n",
    "                                problem=p_nat,\n",
    "                                question=question)\n",
    "print(prompt_nat)"
   ]
  },
  {
   "cell_type": "code",
   "execution_count": null,
   "metadata": {},
   "outputs": [],
   "source": []
  }
 ],
 "metadata": {
  "kernelspec": {
   "display_name": "Python 3",
   "language": "python",
   "name": "python3"
  },
  "language_info": {
   "codemirror_mode": {
    "name": "ipython",
    "version": 3
   },
   "file_extension": ".py",
   "mimetype": "text/x-python",
   "name": "python",
   "nbconvert_exporter": "python",
   "pygments_lexer": "ipython3",
   "version": "3.11.8"
  },
  "orig_nbformat": 4
 },
 "nbformat": 4,
 "nbformat_minor": 2
}
