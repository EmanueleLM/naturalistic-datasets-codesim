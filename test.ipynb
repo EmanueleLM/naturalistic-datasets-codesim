{
 "cells": [
  {
   "cell_type": "code",
   "execution_count": 5,
   "metadata": {},
   "outputs": [
    {
     "ename": "TypeError",
     "evalue": "StraightLine.reset() missing 3 required positional arguments: 'n_ops', 'n_vars', and 'n_instances'",
     "output_type": "error",
     "traceback": [
      "\u001b[0;31m---------------------------------------------------------------------------\u001b[0m",
      "\u001b[0;31mTypeError\u001b[0m                                 Traceback (most recent call last)",
      "\u001b[1;32m/Users/emalfa/Desktop/naturalistic-datasets-codesim/test.ipynb Cell 1\u001b[0m line \u001b[0;36m1\n\u001b[1;32m      <a href='vscode-notebook-cell:/Users/emalfa/Desktop/naturalistic-datasets-codesim/test.ipynb#W0sZmlsZQ%3D%3D?line=8'>9</a>\u001b[0m gen\u001b[39m.\u001b[39mgenerate_data(n_programs\u001b[39m=\u001b[39m\u001b[39m30\u001b[39m)\n\u001b[1;32m     <a href='vscode-notebook-cell:/Users/emalfa/Desktop/naturalistic-datasets-codesim/test.ipynb#W0sZmlsZQ%3D%3D?line=9'>10</a>\u001b[0m gen\u001b[39m.\u001b[39mto_file(suffix\u001b[39m=\u001b[39m\u001b[39mstr\u001b[39m(i\u001b[39m+\u001b[39m\u001b[39m1\u001b[39m))\n\u001b[0;32m---> <a href='vscode-notebook-cell:/Users/emalfa/Desktop/naturalistic-datasets-codesim/test.ipynb#W0sZmlsZQ%3D%3D?line=10'>11</a>\u001b[0m gen\u001b[39m.\u001b[39;49mreset()\n",
      "\u001b[0;31mTypeError\u001b[0m: StraightLine.reset() missing 3 required positional arguments: 'n_ops', 'n_vars', and 'n_instances'"
     ]
    }
   ],
   "source": [
    "from codesim.problem import StraightLine \n",
    "\n",
    "gen = StraightLine(n_ops=20, \n",
    "                   n_vars=3,\n",
    "                   n_instances=2)\n",
    "\n",
    "# Generate and save 3 batches of 30 problems each\n",
    "for i in range(3):\n",
    "    gen.generate_data(n_programs=30)\n",
    "    gen.to_file(suffix=str(i+1))\n",
    "    gen.reset()\n",
    "\n"
   ]
  },
  {
   "cell_type": "code",
   "execution_count": null,
   "metadata": {},
   "outputs": [],
   "source": []
  }
 ],
 "metadata": {
  "kernelspec": {
   "display_name": "Python 3",
   "language": "python",
   "name": "python3"
  },
  "language_info": {
   "codemirror_mode": {
    "name": "ipython",
    "version": 3
   },
   "file_extension": ".py",
   "mimetype": "text/x-python",
   "name": "python",
   "nbconvert_exporter": "python",
   "pygments_lexer": "ipython3",
   "version": "3.12.4"
  },
  "orig_nbformat": 4
 },
 "nbformat": 4,
 "nbformat_minor": 2
}
